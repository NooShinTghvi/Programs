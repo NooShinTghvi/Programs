{
 "cells": [
  {
   "cell_type": "code",
   "execution_count": 3,
   "metadata": {},
   "outputs": [
    {
     "name": "stdout",
     "output_type": "stream",
     "text": [
      "In 3 years I have spotted 0.1 camels.\n"
     ]
    }
   ],
   "source": [
    "print('In %d years I have spotted %g %s.' % (3, 0.1, 'camels'))"
   ]
  },
  {
   "cell_type": "code",
   "execution_count": 4,
   "metadata": {},
   "outputs": [
    {
     "name": "stdout",
     "output_type": "stream",
     "text": [
      "D:\\UnI\\Summer 97\\My Code\\1\n"
     ]
    }
   ],
   "source": [
    "import os\n",
    "cwd = os.getcwd() #current working directory\n",
    "print(cwd)"
   ]
  },
  {
   "cell_type": "code",
   "execution_count": null,
   "metadata": {},
   "outputs": [],
   "source": [
    "# in pC.py\n",
    "def linecount(filename):\n",
    "    count = 0\n",
    "    for line in open(filename):\n",
    "        count  += 1\n",
    "    return count\n",
    "\n",
    "if __name__ == '__main__':\n",
    "    print (linecount('pC.py'))\n",
    "\n",
    "# in pA.py\n",
    "import pC\n",
    "if __name__ == '__main__':\n",
    "    print(pC.linecount('pA.py'))"
   ]
  },
  {
   "cell_type": "code",
   "execution_count": null,
   "metadata": {},
   "outputs": [],
   "source": [
    "import dbm\n",
    "\n",
    "db = dbm.open(\"database\", \"c\")\n",
    "db['cleese.png'] = 'Photo of John Cleese doing a silly walk.'\n",
    "db['cleese2.png'] = 'Photo of John Cleese doing a silly walk2.'\n",
    "print(db['cleese.png'])\n",
    "db.close()"
   ]
  },
  {
   "cell_type": "code",
   "execution_count": null,
   "metadata": {},
   "outputs": [],
   "source": [
    "import pickle\n",
    "t = [1, 2, 3]\n",
    "s = pickle.dumps(t)\n",
    "print(s)\n",
    "t2 = pickle.loads(s)\n",
    "print(t2)\n",
    "if t == t2:\n",
    "    print('a')\n",
    "else :\n",
    "    print('b')\n",
    "if t is t2:\n",
    "    print('c')\n",
    "else :\n",
    "    print('d')"
   ]
  },
  {
   "cell_type": "code",
   "execution_count": null,
   "metadata": {},
   "outputs": [],
   "source": [
    "import os\n",
    "cmd = 'dir'\n",
    "fp = os.popen(cmd)\n",
    "res = fp.read()\n",
    "stat = fp.close()\n",
    "print(res)"
   ]
  },
  {
   "cell_type": "code",
   "execution_count": null,
   "metadata": {},
   "outputs": [],
   "source": [
    "def half_pyramid(rows):\n",
    "    print('Half pyramid...')\n",
    "    for i in range(1,rows + 1):\n",
    "        print('*' * (i))\n",
    "\n",
    "def full_pyramid(rows):\n",
    "    print('\\nFull pyramid...')\n",
    "    for i in range(1,rows + 1):\n",
    "        print(' '*(rows-i) +  '*'*(2*i))\n",
    "\n",
    "def inverted_pyramid(rows):\n",
    "    print('\\nInverted pyramid...')\n",
    "    for i in reversed(range(1,rows + 1)):\n",
    "        print(' '*(rows-i)  + '*'*(2*i))\n",
    "\n",
    "\n",
    "half_pyramid(4)\n",
    "full_pyramid(5)\n",
    "inverted_pyramid(5)"
   ]
  }
 ],
 "metadata": {
  "kernelspec": {
   "display_name": "Python 3",
   "language": "python",
   "name": "python3"
  },
  "language_info": {
   "codemirror_mode": {
    "name": "ipython",
    "version": 3
   },
   "file_extension": ".py",
   "mimetype": "text/x-python",
   "name": "python",
   "nbconvert_exporter": "python",
   "pygments_lexer": "ipython3",
   "version": "3.7.0"
  }
 },
 "nbformat": 4,
 "nbformat_minor": 2
}
