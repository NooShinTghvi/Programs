{
 "cells": [
  {
   "cell_type": "markdown",
   "metadata": {},
   "source": [
    "# Meta Programming"
   ]
  },
  {
   "cell_type": "raw",
   "metadata": {},
   "source": [
    "Use decorators to wrap all functions ::\n",
    "example :"
   ]
  },
  {
   "cell_type": "code",
   "execution_count": null,
   "metadata": {},
   "outputs": [],
   "source": [
    "import time\n",
    "from functools import wraps\n",
    "\n",
    "def timeOfExecution(func):\n",
    "    @wraps(func)\n",
    "    def wrapper(*args, **kwargs):\n",
    "        t_s = time.time()\n",
    "        result = func(*args, **kwargs)\n",
    "        t_e = time.time()\n",
    "        print(func.__name__, t_e - t_s)\n",
    "        return result\n",
    "    return wrapper\n",
    "\n",
    "# # # # # # # # \"a\" # # # # # # # #\n",
    "@timeOfExecution\n",
    "def counting(n):\n",
    "    while n < 500000:\n",
    "        n += 1\n",
    "        \n",
    "#### Main ####\n",
    "counting(5)   \n",
    "\n",
    "# # # # # # # # \"b\" # # # # # # # #\n",
    "def counting(n : float):\n",
    "    while n < 500000:\n",
    "        n += 1\n",
    "counting = timeOfExecution(counting)\n",
    "\n",
    "#### Main ####\n",
    "counting(5)      "
   ]
  },
  {
   "cell_type": "raw",
   "metadata": {},
   "source": [
    "class P:\n",
    "    @classMethod\n",
    "    def method(cls):\n",
    "        pass\n",
    "        \n",
    "Is equal to : \n",
    "\n",
    "class M:\n",
    "    def method(cls):\n",
    "        pass\n",
    "    method = classMethod(method)"
   ]
  },
  {
   "cell_type": "markdown",
   "metadata": {},
   "source": [
    "# Annotations ::"
   ]
  },
  {
   "cell_type": "code",
   "execution_count": 1,
   "metadata": {},
   "outputs": [
    {
     "name": "stdout",
     "output_type": "stream",
     "text": [
      "{'a': {'type': <class 'float'>, 'help': 'the dividend'}, 'b': {'type': <class 'float'>, 'help': 'the divisor (must be different than 0)'}, 'return': {'type': <class 'float'>, 'help': 'the result of dividing a by b'}}\n"
     ]
    }
   ],
   "source": [
    "def div(a, b):\n",
    "    \"\"\"Divide a by b args: a - the dividend b - the divisor (must be different than 0)\n",
    "    return: the result of dividing a by b \"\"\"\n",
    "    return a / b\n",
    "\n",
    "\n",
    "def div(a: 'the dividend', b: 'the divisor (must be different than 0)') -> 'the result of dividing a by b':\n",
    "    \"\"\"Divide a by b\"\"\"\n",
    "    return a / b\n",
    "\n",
    "def div(a: dict(type=float, help='the dividend'), b: dict(type=float, help='the divisor (must be different than 0)') )\\\n",
    "                -> dict(type=float, help='the result of dividing a by b') :\n",
    "    \"\"\"Divide a by b\"\"\"\n",
    "    return a / b\n",
    "\n",
    "print(div.__annotations__)"
   ]
  },
  {
   "cell_type": "raw",
   "metadata": {},
   "source": [
    "nameOfFunc.__name__\n",
    "nameOfFunc.__doc__\n",
    "nameOfFunc.__annotations__ \n",
    "nameOfFunc.__wrapped__()"
   ]
  },
  {
   "cell_type": "code",
   "execution_count": null,
   "metadata": {},
   "outputs": [],
   "source": [
    "from inspect import signature\n",
    "print(signature(counting)) # (n: float)"
   ]
  },
  {
   "cell_type": "code",
   "execution_count": null,
   "metadata": {},
   "outputs": [],
   "source": [
    "from functools import wraps\n",
    "\n",
    "def firstDecorator(func):\n",
    "    @wraps(func)\n",
    "    def wrapper(*args, **kwargs):\n",
    "        print('First Decorator')\n",
    "        return func(*args, **kwargs)\n",
    "    return wrapper\n",
    "\n",
    "def secondDecorator(func):\n",
    "    @wraps(func)\n",
    "    def wrapper(*args, **kwargs):\n",
    "        print('Second Decorator')\n",
    "        return func(*args, **kwargs)\n",
    "    return wrapper\n",
    "\n",
    "@firstDecorator\n",
    "@secondDecorator\n",
    "def add(x, y):\n",
    "    return x + y\n",
    "\n",
    "#### Main ####\n",
    "add(2,3)\n",
    "add.__wrapped__(2,3)\n",
    "add.__wrapped__.__wrapped__(2,3)"
   ]
  },
  {
   "cell_type": "markdown",
   "metadata": {},
   "source": [
    "Decorator function that get arguments :"
   ]
  },
  {
   "cell_type": "code",
   "execution_count": 2,
   "metadata": {},
   "outputs": [
    {
     "name": "stdout",
     "output_type": "stream",
     "text": [
      "decorating with arg1 , arg2\n",
      "a\n",
      "b\n"
     ]
    }
   ],
   "source": [
    "def decorator(arg1, arg2):\n",
    "    def sub_decorator(func):\n",
    "        def wrapper(*args, **kwargs):\n",
    "            print('decorating with {} , {}'.format(arg1, arg2))\n",
    "            return func(*args, **kwargs)\n",
    "        return wrapper\n",
    "    return sub_decorator\n",
    "\n",
    "@decorator('arg1', 'arg2')\n",
    "def abcd(*args):\n",
    "    for arg in args:\n",
    "        print(arg)\n",
    "        \n",
    "#### Main ####\n",
    "abcd('a', 'b')"
   ]
  },
  {
   "cell_type": "code",
   "execution_count": 4,
   "metadata": {},
   "outputs": [
    {
     "name": "stderr",
     "output_type": "stream",
     "text": [
      "DEBUG:NaMe:MSG\n",
      "WARNING:__main__:add\n"
     ]
    },
    {
     "name": "stdout",
     "output_type": "stream",
     "text": [
      "6\n",
      "6\n"
     ]
    }
   ],
   "source": [
    "from functools import wraps\n",
    "import logging\n",
    "\n",
    "def logged(level, name = None, message = None):\n",
    "    def decorate(func):\n",
    "        log_name = name if name else func.__module__\n",
    "        log = logging.getLogger(log_name)\n",
    "        log_msg = message if message else func.__name__\n",
    "\n",
    "        @wraps(func)\n",
    "        def wrapper(*args, **kwargs):\n",
    "            log.log(level, log_msg)\n",
    "            return func(*args, **kwargs)\n",
    "        return wrapper\n",
    "\n",
    "    return decorate\n",
    "\n",
    "# # # # # # # # \"a\" # # # # # # # #\n",
    "@logged(logging.DEBUG, 'NaMe', 'MSG')\n",
    "def add(x, y, z):\n",
    "    print(x + y + z)\n",
    "\n",
    "#### Main ####\n",
    "logging.basicConfig(level = logging.DEBUG)\n",
    "add(1,2,3)\n",
    "\n",
    "# # # # # # # # \"b\" # # # # # # # #\n",
    "@logged(logging.WARNING)\n",
    "def add(x, y, z):\n",
    "    print(x + y + z)\n",
    "    \n",
    "#### Main ####\n",
    "logging.basicConfig(level = logging.DEBUG)\n",
    "add(1,2,3)"
   ]
  },
  {
   "cell_type": "markdown",
   "metadata": {},
   "source": [
    "Definition of decorator with user-configurable features:"
   ]
  },
  {
   "cell_type": "code",
   "execution_count": null,
   "metadata": {},
   "outputs": [],
   "source": [
    "class MyClass():\n",
    "\n",
    "    def __init__(self):\n",
    "        self.__my_val = 10\n",
    "\n",
    "    def set__my_val(self, val):\n",
    "        self.__my_val = val\n",
    "\n",
    "    def get__my_val(self):\n",
    "        return self.__my_val\n"
   ]
  },
  {
   "cell_type": "code",
   "execution_count": null,
   "metadata": {},
   "outputs": [],
   "source": [
    "x = 0\n",
    "def func_out():\n",
    "    x = 1\n",
    "    def func_in():\n",
    "        #nonlocal x\n",
    "        #global x\n",
    "        x = 2\n",
    "        print('in: ', x)\n",
    "\n",
    "    func_in()\n",
    "    print('out: ', x)\n",
    "#### Main ####\n",
    "func_out()\n",
    "print('global: ', x)"
   ]
  },
  {
   "cell_type": "code",
   "execution_count": null,
   "metadata": {},
   "outputs": [],
   "source": [
    "from functools import partial\n",
    "\n",
    "def func(x,y,z):\n",
    "    return x*4 + 2*y + 5*z\n",
    "\n",
    "new_add = partial(func, 2, 5)\n",
    "print(new_add(3))"
   ]
  },
  {
   "cell_type": "code",
   "execution_count": null,
   "metadata": {},
   "outputs": [],
   "source": [
    "from functools import wraps, partial\n",
    "import logging\n",
    "\n",
    "def attach_wrapper(obj, func = None):\n",
    "    if func is None:\n",
    "        return partial(attach_wrapper, obj)\n",
    "    setattr(obj, func.__name__, func)\n",
    "    return func\n",
    "\n",
    "def logged(level, name=None, message=None):\n",
    "    def decorate(func):\n",
    "        log_name = name if name else func.__module__\n",
    "        log = logging.getLogger(log_name)\n",
    "        log_msg = message if message else func.__name__\n",
    "\n",
    "        @wraps(func)\n",
    "        def wrapper(*args, **kwargs):\n",
    "            log.log(level, log_msg)\n",
    "            return func(*args, **kwargs)\n",
    "\n",
    "        @attach_wrapper(wrapper)\n",
    "        def set_level(newlevel):\n",
    "            nonlocal level\n",
    "            level = newlevel\n",
    "\n",
    "        @attach_wrapper(wrapper)\n",
    "        def set_message(newmsg):\n",
    "            nonlocal log_msg\n",
    "            log_msg = newmsg\n",
    "\n",
    "        return wrapper\n",
    "return decorate\n",
    "\n",
    "@logged(logging.WARNING)\n",
    "def add(x, y, z):\n",
    "    return x + y + z\n",
    "\n",
    "#### Main ####\n",
    "logging.basicConfig(level = logging.DEBUG)\n",
    "add.set_level(logging.DEBUG)\n",
    "add.set_message(\"Hello\")\n",
    "add(1,2,3)\n"
   ]
  },
  {
   "cell_type": "markdown",
   "metadata": {},
   "source": [
    "Definition of decorator as part of a class:"
   ]
  },
  {
   "cell_type": "code",
   "execution_count": null,
   "metadata": {},
   "outputs": [],
   "source": [
    "from functools import wraps\n",
    "\n",
    "class A:\n",
    "    def firstDecorator(self, func):\n",
    "        @wraps(func)\n",
    "        def wrapper(*args, **kwargs):\n",
    "            print('First decorator')\n",
    "            return func(*args, **kwargs)\n",
    "        return wrapper\n",
    "\n",
    "    def secondDecorator(self, func):\n",
    "        @wraps(func)\n",
    "        def wrapper(*args, **kwargs):\n",
    "            print('Second decorator')\n",
    "            return func(*args, **kwargs)\n",
    "        return wrapper\n",
    "\n",
    "    \n",
    "a = A()\n",
    "\n",
    "@a.firstDecorator\n",
    "def abcd():\n",
    "    pass\n",
    "\n",
    "@a.secondDecorator\n",
    "def dcba():\n",
    "    pass\n",
    "\n",
    "#### Main ####\n",
    "abcd()\n",
    "dcba()"
   ]
  }
 ],
 "metadata": {
  "kernelspec": {
   "display_name": "Python 3",
   "language": "python",
   "name": "python3"
  },
  "language_info": {
   "codemirror_mode": {
    "name": "ipython",
    "version": 3
   },
   "file_extension": ".py",
   "mimetype": "text/x-python",
   "name": "python",
   "nbconvert_exporter": "python",
   "pygments_lexer": "ipython3",
   "version": "3.7.0"
  }
 },
 "nbformat": 4,
 "nbformat_minor": 2
}
